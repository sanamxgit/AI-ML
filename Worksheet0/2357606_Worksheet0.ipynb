{
  "cells": [
    {
      "cell_type": "markdown",
      "metadata": {
        "id": "t2EIfJccBRDW"
      },
      "source": [
        "**WORKSHEET - 0**"
      ]
    },
    {
      "cell_type": "markdown",
      "metadata": {
        "id": "JbvY-CkaA3K1"
      },
      "source": [
        "***Name:* Sanam Tamang** <br>\n",
        "***UniID:* 2357606**\n"
      ]
    },
    {
      "cell_type": "markdown",
      "metadata": {
        "id": "X41DmSV9E7JQ"
      },
      "source": [
        "_______________________________________________________________________________"
      ]
    },
    {
      "cell_type": "markdown",
      "metadata": {
        "id": "zcB6q3SOFJ4C"
      },
      "source": [
        "**PART 1**"
      ]
    },
    {
      "cell_type": "markdown",
      "metadata": {
        "id": "nCgfxACfKHVv"
      },
      "source": [
        "**Part 1.1:   FUNCTIONS**"
      ]
    },
    {
      "cell_type": "code",
      "execution_count": 8,
      "metadata": {
        "colab": {
          "base_uri": "https://localhost:8080/",
          "height": 0
        },
        "id": "KBSSMhapM4qp",
        "outputId": "00d1adb1-726a-4af9-93d4-10e6825a59c9"
      },
      "outputs": [
        {
          "name": "stdout",
          "output_type": "stream",
          "text": [
            "| UNIT CONVERTER |\n",
            "1. Length (m to ft)\n",
            "2. Weight (kg to lbs)\n",
            "3. Volume (L to gal)\n",
            "Choose a conversion (1-3): 2\n",
            "Enter unit to convert from (kg or lbs): kg\n",
            "Enter value: 58\n",
            "Converted Value: 127.868 lbs\n"
          ]
        }
      ],
      "source": [
        "# Task 1: Python program that converts between different units of measurement\n",
        "\n",
        "def convertLength(inputValue, inputUnit):\n",
        "    if inputUnit == 'm':\n",
        "        return inputValue * 3.28084\n",
        "    elif inputUnit == 'ft':\n",
        "        return inputValue / 3.28084\n",
        "    else:\n",
        "        raise ValueError(\"Invalid unit!\")\n",
        "\n",
        "def convertWeight(inputValue, inputUnit):\n",
        "    if inputUnit == 'kg':\n",
        "        return inputValue * 2.20462\n",
        "    elif inputUnit == 'lbs':\n",
        "        return inputValue / 2.20462\n",
        "    else:\n",
        "        raise ValueError(\"Invalid unit!\")\n",
        "\n",
        "def convertVolume(inputValue, inputUnit):\n",
        "    if inputUnit == 'L':\n",
        "        return inputValue * 0.264172\n",
        "    elif inputUnit == 'gal':\n",
        "        return inputValue / 0.264172\n",
        "    else:\n",
        "        raise ValueError(\"Invalid unit!\")\n",
        "\n",
        "def unitConverter():\n",
        "    print(\"| UNIT CONVERTER |\")\n",
        "    conversionOptions = {\n",
        "        '1': 'Length (m to ft)',\n",
        "        '2': 'Weight (kg to lbs)',\n",
        "        '3': 'Volume (L to gal)'\n",
        "    }\n",
        "\n",
        "    for optionKey, optionValue in conversionOptions.items():\n",
        "        print(f\"{optionKey}. {optionValue}\")\n",
        "    try:\n",
        "        userChoice = input(\"Choose a conversion (1-3): \").strip()\n",
        "        if userChoice == '1':\n",
        "            inputUnit = input(\"Enter unit to convert from (m or ft): \").strip().lower()\n",
        "            inputValue = float(input(\"Enter value: \"))\n",
        "            convertedValue = convertLength(inputValue, inputUnit)\n",
        "            outputUnit = 'ft' if inputUnit == 'm' else 'm'\n",
        "\n",
        "        elif userChoice == '2':\n",
        "            inputUnit = input(\"Enter unit to convert from (kg or lbs): \").strip().lower()\n",
        "            inputValue = float(input(\"Enter value: \"))\n",
        "            convertedValue = convertWeight(inputValue, inputUnit)\n",
        "            outputUnit = 'lbs' if inputUnit == 'kg' else 'kg'\n",
        "\n",
        "        elif userChoice == '3':\n",
        "            inputUnit = input(\"Enter unit to convert from (L or gal): \").strip().lower()\n",
        "            inputValue = float(input(\"Enter value: \"))\n",
        "            convertedValue = convertVolume(inputValue, inputUnit)\n",
        "            outputUnit = 'gal' if inputUnit == 'L' else 'L'\n",
        "\n",
        "        else:\n",
        "            print(\"Please choose a option.\")\n",
        "            return\n",
        "\n",
        "        print(f\"Converted Value: {convertedValue:.3f} {outputUnit}\")\n",
        "\n",
        "    except ValueError as errorMessage:\n",
        "        print(f\" Error: {errorMessage}\")\n",
        "\n",
        "unitConverter()"
      ]
    },
    {
      "cell_type": "code",
      "execution_count": 18,
      "metadata": {
        "colab": {
          "base_uri": "https://localhost:8080/",
          "height": 0
        },
        "id": "-JsNx2t-T-II",
        "outputId": "b347bbfa-ef6f-4ad0-f03d-875eaec9bf5b"
      },
      "outputs": [
        {
          "name": "stdout",
          "output_type": "stream",
          "text": [
            "\n",
            "Mathematical Operations:\n",
            "1. Sum\n",
            "2. Average\n",
            "3. Maximum\n",
            "4. Minimum\n",
            "5. Exit\n",
            "\n",
            "Enter your choice (1-5): 4\n",
            "Enter numbers separated by spaces: 6 7 9 99\n",
            "Minimum: 6.0\n"
          ]
        }
      ],
      "source": [
        "# TASK 2: Python program that performs various mathematical operations on a list of numbers\n",
        "\n",
        "def computeSum(inputValues):\n",
        "    return sum(inputValues)\n",
        "\n",
        "def computeAverage(inputValues):\n",
        "    if not inputValues:\n",
        "        raise ValueError(\"Cannot calculate average of an empty list\")\n",
        "    return sum(inputValues) / len(inputValues)\n",
        "\n",
        "def determineMaxValue(inputValues):\n",
        "    if not inputValues:\n",
        "        raise ValueError(\"Cannot find maximum of an empty list\")\n",
        "    return max(inputValues)\n",
        "\n",
        "def determineMinValue(inputValues):\n",
        "    if not inputValues:\n",
        "        raise ValueError(\"Cannot find minimum of an empty list\")\n",
        "    return min(inputValues)\n",
        "\n",
        "def matOP():\n",
        "    print(\"\\nMathematical Operations:\")\n",
        "    print(\"1. Sum\")\n",
        "    print(\"2. Average\")\n",
        "    print(\"3. Maximum\")\n",
        "    print(\"4. Minimum\")\n",
        "    print(\"5. Exit\")\n",
        "\n",
        "    try:\n",
        "        operationSelection = int(input(\"\\nEnter your choice (1-5): \"))\n",
        "        if operationSelection == 5:\n",
        "            print(\"Exiting the program...\")\n",
        "            return\n",
        "\n",
        "        if operationSelection < 1 or operationSelection > 4:\n",
        "            print(\"Invalid choice. Please enter a number between 1 and 4.\")\n",
        "            return\n",
        "\n",
        "        numberInput = input(\"Enter numbers separated by spaces: \")\n",
        "        try:\n",
        "            numericCollection = [float(num) for num in numberInput.split()]\n",
        "\n",
        "            if not numericCollection:\n",
        "                print(\"No numbers entered.\")\n",
        "                return\n",
        "\n",
        "            if operationSelection == 1:\n",
        "                calculatedResult = computeSum(numericCollection)\n",
        "                print(f\"Sum: {calculatedResult}\")\n",
        "            elif operationSelection == 2:\n",
        "                calculatedResult = computeAverage(numericCollection)\n",
        "                print(f\"Average: {calculatedResult:.2f}\")\n",
        "            elif operationSelection == 3:\n",
        "                calculatedResult = determineMaxValue(numericCollection)\n",
        "                print(f\"Maximum: {calculatedResult}\")\n",
        "            elif operationSelection == 4:\n",
        "                calculatedResult = determineMinValue(numericCollection)\n",
        "                print(f\"Minimum: {calculatedResult}\")\n",
        "\n",
        "        except ValueError:\n",
        "            print(\"Invalid input. Please enter valid numbers.\")\n",
        "\n",
        "    except ValueError:\n",
        "        print(\"Please enter a valid menu choice.\")\n",
        "\n",
        "matOP()"
      ]
    },
    {
      "cell_type": "markdown",
      "metadata": {
        "id": "-d2VdwAzFTxD"
      },
      "source": [
        "________________________________________________________________________________"
      ]
    },
    {
      "cell_type": "markdown",
      "metadata": {
        "id": "hy0QAk_V78gd"
      },
      "source": [
        "**Part 1.2: LIST MANIPULATION**"
      ]
    },
    {
      "cell_type": "code",
      "execution_count": 13,
      "metadata": {
        "id": "qaDbPo3JBlx6"
      },
      "outputs": [],
      "source": [
        "# This is the test list where we will perfrom manipulation\n",
        "test_list = [1, 2, 3, 4, 5, 6]"
      ]
    },
    {
      "cell_type": "code",
      "execution_count": 11,
      "metadata": {
        "colab": {
          "base_uri": "https://localhost:8080/",
          "height": 0
        },
        "id": "DBkAJXOt8UvQ",
        "outputId": "75359348-504e-479a-e863-349ce402039a"
      },
      "outputs": [
        {
          "name": "stdout",
          "output_type": "stream",
          "text": [
            "Every other element: [1, 3, 5]\n"
          ]
        }
      ],
      "source": [
        "# TASK 1: Extract Every Other Element\n",
        "def extract_every_other(lst):\n",
        "    return lst[::2]\n",
        "\n",
        "print(\"Every other element:\", extract_every_other(test_list))"
      ]
    },
    {
      "cell_type": "code",
      "execution_count": 14,
      "metadata": {
        "colab": {
          "base_uri": "https://localhost:8080/",
          "height": 0
        },
        "id": "O0kHDXUM-cw9",
        "outputId": "0f767e75-c2e9-45c0-ded9-5358049a6581"
      },
      "outputs": [
        {
          "name": "stdout",
          "output_type": "stream",
          "text": [
            "Sublist: [3, 4, 5]\n"
          ]
        }
      ],
      "source": [
        "# TASK 2: Slice a sublist\n",
        "def get_sublist(lst, start, end):\n",
        "    return lst[start:end+1]\n",
        "\n",
        "print(\"Sublist:\", get_sublist(test_list, 2, 4))"
      ]
    },
    {
      "cell_type": "code",
      "execution_count": 15,
      "metadata": {
        "colab": {
          "base_uri": "https://localhost:8080/",
          "height": 0
        },
        "id": "IBKzGgLl89Mv",
        "outputId": "64091b6b-e0f7-4374-ff36-d34613cf7fa4"
      },
      "outputs": [
        {
          "name": "stdout",
          "output_type": "stream",
          "text": [
            "Reversed list: [6, 5, 4, 3, 2, 1]\n"
          ]
        }
      ],
      "source": [
        "# TASK 3: Reverse a list using slicing\n",
        "def reverse_list(lst):\n",
        "    return lst[::-1]\n",
        "\n",
        "print(\"Reversed list:\", reverse_list(test_list))\n"
      ]
    },
    {
      "cell_type": "code",
      "execution_count": 16,
      "metadata": {
        "colab": {
          "base_uri": "https://localhost:8080/",
          "height": 0
        },
        "id": "uiiT6iyV_mPm",
        "outputId": "6113a8be-e428-4dbe-f40a-1dc0d6dbd306"
      },
      "outputs": [
        {
          "name": "stdout",
          "output_type": "stream",
          "text": [
            "Remove first and last: [2, 3, 4, 5]\n"
          ]
        }
      ],
      "source": [
        "# TASK 4: Remove the First and Last Elements\n",
        "def remove_first_last(lst):\n",
        "    return lst[1:-1]\n",
        "\n",
        "print(\"Remove first and last:\", remove_first_last(test_list))"
      ]
    },
    {
      "cell_type": "code",
      "execution_count": 17,
      "metadata": {
        "colab": {
          "base_uri": "https://localhost:8080/",
          "height": 0
        },
        "id": "IX2jA0mR89zr",
        "outputId": "f515a5ab-347a-42a9-f03b-64a96a8797cd"
      },
      "outputs": [
        {
          "name": "stdout",
          "output_type": "stream",
          "text": [
            "First 3 elements: [1, 2, 3]\n"
          ]
        }
      ],
      "source": [
        "# TASK 5: Get the First n Elements\n",
        "def get_first_n(lst, n):\n",
        "    return lst[:n]\n",
        "\n",
        "print(\"First 3 elements:\", get_first_n(test_list, 3))"
      ]
    },
    {
      "cell_type": "code",
      "execution_count": 18,
      "metadata": {
        "colab": {
          "base_uri": "https://localhost:8080/",
          "height": 0
        },
        "id": "GrYAl52k89wW",
        "outputId": "d90ab12b-1585-4152-aeae-8d59a4e1830d"
      },
      "outputs": [
        {
          "name": "stdout",
          "output_type": "stream",
          "text": [
            "Last 2 elements: [4, 5, 6]\n"
          ]
        }
      ],
      "source": [
        "# TASK 6: Extract Elements from the End\n",
        "def get_last_n(lst, n):\n",
        "    return lst[-n:]\n",
        "\n",
        "print(\"Last 2 elements:\", get_last_n(test_list, 3))"
      ]
    },
    {
      "cell_type": "code",
      "execution_count": 19,
      "metadata": {
        "colab": {
          "base_uri": "https://localhost:8080/",
          "height": 0
        },
        "id": "oZ6N7AxS89rj",
        "outputId": "5bd94fb9-cf8e-4edd-ced8-e0b3294105a0"
      },
      "outputs": [
        {
          "name": "stdout",
          "output_type": "stream",
          "text": [
            "Reverse skip: [6, 4, 2]\n"
          ]
        }
      ],
      "source": [
        "# TASK 7: Extract Elements in Reverse Order\n",
        "def reverse_skip(lst):\n",
        "    return lst[::-2]\n",
        "\n",
        "print(\"Reverse skip:\", reverse_skip(test_list))"
      ]
    },
    {
      "cell_type": "markdown",
      "metadata": {
        "id": "Wa6KXvdeFXiT"
      },
      "source": [
        "________________________________________________________________________________"
      ]
    },
    {
      "cell_type": "markdown",
      "metadata": {
        "id": "VP9fSI7gApN8"
      },
      "source": [
        "**Part 1.3: NESTED LIST**"
      ]
    },
    {
      "cell_type": "code",
      "execution_count": 21,
      "metadata": {
        "id": "6oa-A7MnCwVC"
      },
      "outputs": [],
      "source": [
        "# This is the test list where we will perfrom nested list manipulation\n",
        "test_lists = [\n",
        "    [[1, 2], [3, 4], [5]],\n",
        "    [[1, 2, 3], [4, 5, 6], [7, 8, 9]],\n",
        "    [[1, 2], [3, [4, 5]], 6],\n",
        "    [[1, 2], [3, 2], [4, 5]]\n",
        "]"
      ]
    },
    {
      "cell_type": "code",
      "execution_count": 29,
      "metadata": {
        "colab": {
          "base_uri": "https://localhost:8080/",
          "height": 0
        },
        "id": "XxwuccZXAwpU",
        "outputId": "fbe3360e-e51d-4262-e573-5f230afcbe34"
      },
      "outputs": [
        {
          "name": "stdout",
          "output_type": "stream",
          "text": [
            "Flatten: [1, 2, 3, 4, 5]\n"
          ]
        }
      ],
      "source": [
        "#TASK 1: Flatten a Nested List\n",
        "def flatten(lst):\n",
        "    flattened = []\n",
        "    for item in lst:\n",
        "        if isinstance(item, list):\n",
        "            flattened.extend(flatten(item))\n",
        "        else:\n",
        "            flattened.append(item)\n",
        "    return flattened\n",
        "\n",
        "print(\"Flatten:\", flatten(test_lists[0]))"
      ]
    },
    {
      "cell_type": "code",
      "execution_count": 23,
      "metadata": {
        "colab": {
          "base_uri": "https://localhost:8080/",
          "height": 0
        },
        "id": "YdMGkoo1A1Es",
        "outputId": "001f94a1-8f2d-40f8-a2c6-1e8a639978aa"
      },
      "outputs": [
        {
          "name": "stdout",
          "output_type": "stream",
          "text": [
            "Access Nested Element: 6\n"
          ]
        }
      ],
      "source": [
        "#TASK 2:  Accessing Nested List Elements\n",
        "def access_nested_element(lst, indices):\n",
        "    current = lst\n",
        "    for index in indices:\n",
        "        current = current[index]\n",
        "    return current\n",
        "\n",
        "print(\"Access Nested Element:\", access_nested_element(test_lists[1], [1, 2]))"
      ]
    },
    {
      "cell_type": "code",
      "execution_count": 30,
      "metadata": {
        "colab": {
          "base_uri": "https://localhost:8080/",
          "height": 0
        },
        "id": "9MvCPDj1A06F",
        "outputId": "05e5d195-ebd3-497c-84eb-04168db3ae61"
      },
      "outputs": [
        {
          "name": "stdout",
          "output_type": "stream",
          "text": [
            "Sum Nested: 21\n"
          ]
        }
      ],
      "source": [
        "#TASK 3: Sum of All Elements in a Nested List\n",
        "def sum_nested(lst):\n",
        "    total = 0\n",
        "    for item in lst:\n",
        "        if isinstance(item, list):\n",
        "            total += sum_nested(item)\n",
        "        else:\n",
        "            total += item\n",
        "    return total\n",
        "\n",
        "print(\"Sum Nested:\", sum_nested(test_lists[2]))"
      ]
    },
    {
      "cell_type": "code",
      "execution_count": 28,
      "metadata": {
        "colab": {
          "base_uri": "https://localhost:8080/",
          "height": 0
        },
        "id": "oHLne753A0y_",
        "outputId": "b0a3f75b-ad17-4f31-afe9-e5bf5ec44a11"
      },
      "outputs": [
        {
          "name": "stdout",
          "output_type": "stream",
          "text": [
            "Remove Element: [[1], [3], [4, 5]]\n"
          ]
        }
      ],
      "source": [
        "#TASK 4: Remove Specific Element from a Nested List\n",
        "def remove_element(lst, elem):\n",
        "    result = []\n",
        "    for item in lst:\n",
        "        if isinstance(item, list):\n",
        "            sublist = remove_element(item, elem)\n",
        "            if sublist:  # Only add non-empty sublists\n",
        "                result.append(sublist)\n",
        "        elif item != elem:\n",
        "            result.append(item)\n",
        "    return result\n",
        "\n",
        "print(\"Remove Element:\", remove_element(test_lists[3], 2))"
      ]
    },
    {
      "cell_type": "code",
      "execution_count": 27,
      "metadata": {
        "colab": {
          "base_uri": "https://localhost:8080/",
          "height": 0
        },
        "id": "T638LnZPA0sd",
        "outputId": "cd550e39-e364-4250-e1e8-c6cc3220c4de"
      },
      "outputs": [
        {
          "name": "stdout",
          "output_type": "stream",
          "text": [
            "Find Max: 6\n"
          ]
        }
      ],
      "source": [
        "#TASK 5: Find the Maximum Element in a Nested List\n",
        "def find_max(lst):\n",
        "    max_val = float('-inf')\n",
        "    for item in lst:\n",
        "        if isinstance(item, list):\n",
        "            max_val = max(max_val, find_max(item))\n",
        "        else:\n",
        "            max_val = max(max_val, item)\n",
        "    return max_val\n",
        "print(\"Find Max:\", find_max(test_lists[2]))"
      ]
    },
    {
      "cell_type": "code",
      "execution_count": 26,
      "metadata": {
        "colab": {
          "base_uri": "https://localhost:8080/",
          "height": 0
        },
        "id": "vQhRT957A0ge",
        "outputId": "4837bc97-cab0-485f-cc9f-6e884aa14b70"
      },
      "outputs": [
        {
          "name": "stdout",
          "output_type": "stream",
          "text": [
            "Count Occurrences: 2\n"
          ]
        }
      ],
      "source": [
        "#TASK 6: Count Occurrences of an Element in a Nested List\n",
        "def count_occurrences(lst, elem):\n",
        "    count = 0\n",
        "    for item in lst:\n",
        "        if isinstance(item, list):\n",
        "            count += count_occurrences(item, elem)\n",
        "        elif item == elem:\n",
        "            count += 1\n",
        "    return count\n",
        "\n",
        "print(\"Count Occurrences:\", count_occurrences(test_lists[3], 2))"
      ]
    },
    {
      "cell_type": "code",
      "execution_count": 25,
      "metadata": {
        "colab": {
          "base_uri": "https://localhost:8080/",
          "height": 0
        },
        "id": "Lri4i2uyA0ag",
        "outputId": "32da4b67-73b7-4731-c6ea-6f663e934a80"
      },
      "outputs": [
        {
          "name": "stdout",
          "output_type": "stream",
          "text": [
            "Deep Flatten: [1, 2, 3, 4, 5, 6, 7, 8]\n"
          ]
        }
      ],
      "source": [
        "#TASK 7: Flatten a List of Lists of Lists\n",
        "def deep_flatten(lst):\n",
        "    flattened = []\n",
        "    for item in lst:\n",
        "        if isinstance(item, list):\n",
        "            flattened.extend(deep_flatten(item))\n",
        "        else:\n",
        "            flattened.append(item)\n",
        "    return flattened\n",
        "\n",
        "print(\"Deep Flatten:\", deep_flatten([[[1, 2], [3, 4]], [[5, 6], [7, 8]]]))"
      ]
    },
    {
      "cell_type": "code",
      "execution_count": 24,
      "metadata": {
        "colab": {
          "base_uri": "https://localhost:8080/",
          "height": 0
        },
        "id": "fOAVrwvhA0Qk",
        "outputId": "91154a06-f4e9-47d1-ab60-b76795b2dd6a"
      },
      "outputs": [
        {
          "name": "stdout",
          "output_type": "stream",
          "text": [
            "Average Nested: 3.5\n"
          ]
        }
      ],
      "source": [
        "#TASK 8: Nested List Average\n",
        "def average_nested(lst):\n",
        "    total = sum_nested(lst)\n",
        "    count = len(flatten(lst))\n",
        "    return total / count if count > 0 else 0\n",
        "\n",
        "print(\"Average Nested:\", average_nested([[1, 2], [3, 4], [5, 6]]))"
      ]
    },
    {
      "cell_type": "markdown",
      "metadata": {
        "id": "D2eV4wyAEumG"
      },
      "source": [
        "_____________________________________________________________________________"
      ]
    },
    {
      "cell_type": "markdown",
      "metadata": {
        "id": "OvBKQs7CFos1"
      },
      "source": [
        "_____________________________________________________________________________"
      ]
    },
    {
      "cell_type": "markdown",
      "metadata": {
        "id": "FFl7p8CYKNGv"
      },
      "source": [
        "**Part 2: NUMPY**"
      ]
    },
    {
      "cell_type": "code",
      "execution_count": 32,
      "metadata": {
        "id": "FWBbWyXLC_MM"
      },
      "outputs": [],
      "source": [
        "# Importing NumPy library before doing the NUMPY TASKS\n",
        "import numpy as np"
      ]
    },
    {
      "cell_type": "markdown",
      "metadata": {
        "id": "AX1TMrKLF3X3"
      },
      "source": [
        "**Basic Vector and Matrix Operation with Numpy**"
      ]
    },
    {
      "cell_type": "markdown",
      "metadata": {
        "id": "XAz_QPrGGBJv"
      },
      "source": [
        "**Problem - 1: Array Creation**"
      ]
    },
    {
      "cell_type": "code",
      "execution_count": 33,
      "metadata": {
        "colab": {
          "base_uri": "https://localhost:8080/",
          "height": 0
        },
        "id": "MRB39s66_Dmm",
        "outputId": "224c5eac-f39f-4760-88b2-57b02d52eb91"
      },
      "outputs": [
        {
          "name": "stdout",
          "output_type": "stream",
          "text": [
            "Empty 2x2 Array:\n",
            " [[4.1482862e-316 0.0000000e+000]\n",
            " [0.0000000e+000 4.9406565e-324]]\n"
          ]
        }
      ],
      "source": [
        "# Task 1 : Initialize an empty array with size 2X2\n",
        "emptyArray = np.empty((2, 2))\n",
        "print(\"Empty 2x2 Array:\\n\", emptyArray)\n",
        "\n"
      ]
    },
    {
      "cell_type": "code",
      "execution_count": 39,
      "metadata": {
        "colab": {
          "base_uri": "https://localhost:8080/",
          "height": 0
        },
        "id": "wkG8koMRGGBA",
        "outputId": "856f43bd-0e8f-4739-f87b-1f79e216b4bc"
      },
      "outputs": [
        {
          "name": "stdout",
          "output_type": "stream",
          "text": [
            "All-Ones 4x2 Array:\n",
            " [[1. 1.]\n",
            " [1. 1.]\n",
            " [1. 1.]\n",
            " [1. 1.]]\n"
          ]
        }
      ],
      "source": [
        "# Task 2: Initialize an all-one array with size 4x2\n",
        "onesArray = np.ones((4, 2))\n",
        "print(\"All-Ones 4x2 Array:\\n\", onesArray)"
      ]
    },
    {
      "cell_type": "code",
      "execution_count": 35,
      "metadata": {
        "colab": {
          "base_uri": "https://localhost:8080/",
          "height": 0
        },
        "id": "mVgAJ_dRExxE",
        "outputId": "bb9ea6d0-d6e8-48a1-a275-502847da3f76"
      },
      "outputs": [
        {
          "name": "stdout",
          "output_type": "stream",
          "text": [
            "Array Filled with Value 5:\n",
            " [[5 5 5]\n",
            " [5 5 5]\n",
            " [5 5 5]]\n"
          ]
        }
      ],
      "source": [
        "# Task 3: Create an array filled with a specific value\n",
        "fillValArray = np.full((3, 3), 5)  # 3x3 array filled with 5\n",
        "print(\"Array Filled with Value 5:\\n\", fillValArray)"
      ]
    },
    {
      "cell_type": "code",
      "execution_count": 36,
      "metadata": {
        "colab": {
          "base_uri": "https://localhost:8080/",
          "height": 0
        },
        "id": "Cz04SOcLHkXh",
        "outputId": "e65a6d71-b7b8-40f7-c072-ee9bd69ceb1b"
      },
      "outputs": [
        {
          "name": "stdout",
          "output_type": "stream",
          "text": [
            "Zeros Array with Same Shape:\n",
            " [[0 0]\n",
            " [0 0]]\n"
          ]
        }
      ],
      "source": [
        "# Task 4: Create an array of zeros with same shape as another array\n",
        "original_array = np.array([[1, 2], [3, 4]])\n",
        "zerosLikeArray = np.zeros_like(original_array)\n",
        "print(\"Zeros Array with Same Shape:\\n\", zerosLikeArray)\n"
      ]
    },
    {
      "cell_type": "code",
      "execution_count": 40,
      "metadata": {
        "colab": {
          "base_uri": "https://localhost:8080/",
          "height": 0
        },
        "id": "DpxwjzC9IO9-",
        "outputId": "38ea26f5-6df1-4d90-fc04-96f75c97b129"
      },
      "outputs": [
        {
          "name": "stdout",
          "output_type": "stream",
          "text": [
            "Ones Array with Same Shape:\n",
            " [[1 1]\n",
            " [1 1]]\n"
          ]
        }
      ],
      "source": [
        "# Task 5: Create an array of ones with same shape as another array\n",
        "onesLikeArray = np.ones_like(original_array)\n",
        "print(\"Ones Array with Same Shape:\\n\", onesLikeArray)"
      ]
    },
    {
      "cell_type": "code",
      "execution_count": 38,
      "metadata": {
        "colab": {
          "base_uri": "https://localhost:8080/",
          "height": 0
        },
        "id": "i6_8RB5kH8Ib",
        "outputId": "7631d900-1135-4b81-9110-2f7b4edd016c"
      },
      "outputs": [
        {
          "name": "stdout",
          "output_type": "stream",
          "text": [
            "List Converted to NumPy Array:\n",
            " [1 2 3 4]\n"
          ]
        }
      ],
      "source": [
        "# Task 6: Convert an existing list to a NumPy array\n",
        "new_list = [1, 2, 3, 4]\n",
        "numpyArray = np.array(new_list)\n",
        "print(\"List Converted to NumPy Array:\\n\", numpyArray)"
      ]
    },
    {
      "cell_type": "markdown",
      "metadata": {
        "id": "k8n97rUDJD8T"
      },
      "source": [
        "_______________________________________________________________________________"
      ]
    },
    {
      "cell_type": "markdown",
      "metadata": {
        "id": "qTqwHM5fJHGr"
      },
      "source": [
        "**Problem 2 - Array Manipulation: Numerical Ranges and Array indexing**"
      ]
    },
    {
      "cell_type": "code",
      "execution_count": 43,
      "metadata": {
        "colab": {
          "base_uri": "https://localhost:8080/",
          "height": 0
        },
        "id": "WBUAyqaiJZ1W",
        "outputId": "a6c4c735-8b3e-4341-bc72-795bf484bc71"
      },
      "outputs": [
        {
          "name": "stdout",
          "output_type": "stream",
          "text": [
            "Array from 10 to 49:\n",
            " [10 11 12 13 14 15 16 17 18 19 20 21 22 23 24 25 26 27 28 29 30 31 32 33\n",
            " 34 35 36 37 38 39 40 41 42 43 44 45 46 47 48 49]\n"
          ]
        }
      ],
      "source": [
        "# Task 1: Create an array with values ranging from 10 to 49\n",
        "array_10_to_49 = np.arange(10, 50)\n",
        "print(\"Array from 10 to 49:\\n\", array_10_to_49)"
      ]
    },
    {
      "cell_type": "code",
      "execution_count": 44,
      "metadata": {
        "colab": {
          "base_uri": "https://localhost:8080/",
          "height": 0
        },
        "id": "IOJ9VBc4KQRN",
        "outputId": "04471a01-e7fc-4546-a1ab-6dd1a06c565d"
      },
      "outputs": [
        {
          "name": "stdout",
          "output_type": "stream",
          "text": [
            "3x3 Matrix from 0 to 8:\n",
            " [[0 1 2]\n",
            " [3 4 5]\n",
            " [6 7 8]]\n"
          ]
        }
      ],
      "source": [
        "# Task 2: Create a 3X3 matrix with values ranging from 0 to 8\n",
        "matrix_0_to_8 = np.arange(9).reshape(3, 3)\n",
        "print(\"3x3 Matrix from 0 to 8:\\n\", matrix_0_to_8)"
      ]
    },
    {
      "cell_type": "code",
      "execution_count": 45,
      "metadata": {
        "colab": {
          "base_uri": "https://localhost:8080/",
          "height": 0
        },
        "id": "jKq4uKTjKQJO",
        "outputId": "6b2aeb56-f700-4638-8d34-83da66db9f6b"
      },
      "outputs": [
        {
          "name": "stdout",
          "output_type": "stream",
          "text": [
            "3x3 Identity Matrix:\n",
            " [[1 0 0]\n",
            " [0 1 0]\n",
            " [0 0 1]]\n"
          ]
        }
      ],
      "source": [
        "# Task 3: Create a 3X3 identity matrix\n",
        "identity_matrix = np.eye(3, dtype=int)\n",
        "print(\"3x3 Identity Matrix:\\n\", identity_matrix)"
      ]
    },
    {
      "cell_type": "code",
      "execution_count": 46,
      "metadata": {
        "colab": {
          "base_uri": "https://localhost:8080/",
          "height": 0
        },
        "id": "4XHwZTFHKQB6",
        "outputId": "f92e1828-bd71-4cc3-af62-2ee9e7333bc8"
      },
      "outputs": [
        {
          "name": "stdout",
          "output_type": "stream",
          "text": [
            "Random Array Mean: 0.5218514101381385\n"
          ]
        }
      ],
      "source": [
        "# Task 4: Create a random array of size 30 and find its mean\n",
        "random_array = np.random.random(30)\n",
        "array_mean = random_array.mean()\n",
        "print(\"Random Array Mean:\", array_mean)"
      ]
    },
    {
      "cell_type": "code",
      "execution_count": 47,
      "metadata": {
        "colab": {
          "base_uri": "https://localhost:8080/",
          "height": 0
        },
        "id": "TYcJMDoPKP7b",
        "outputId": "545d22e2-a2d7-4b9c-ec8c-73e8491cf212"
      },
      "outputs": [
        {
          "name": "stdout",
          "output_type": "stream",
          "text": [
            "10x10 Random Array:\n",
            "Minimum value: 0.0021792582088662193\n",
            "Maximum value: 0.9942328157570279\n"
          ]
        }
      ],
      "source": [
        "# Task 5: Create a 10X10 array with random values and find min/max\n",
        "random_10x10 = np.random.random((10, 10))\n",
        "min_val = random_10x10.min()\n",
        "max_val = random_10x10.max()\n",
        "print(\"10x10 Random Array:\")\n",
        "print(\"Minimum value:\", min_val)\n",
        "print(\"Maximum value:\", max_val)"
      ]
    },
    {
      "cell_type": "code",
      "execution_count": 53,
      "metadata": {
        "colab": {
          "base_uri": "https://localhost:8080/",
          "height": 0
        },
        "id": "frRq4OzsKP0j",
        "outputId": "fd33e071-736f-4b4b-b859-27487381ac49"
      },
      "outputs": [
        {
          "name": "stdout",
          "output_type": "stream",
          "text": [
            "Zero Array with 5th Element as 1:\n",
            " [0 0 0 0 1 0 0 0 0 0]\n"
          ]
        }
      ],
      "source": [
        "# Task 6: Create a zero array of size 10 and replace 5th element with 1\n",
        "zero_array = np.zeros(10, dtype=int)\n",
        "zero_array[4] = 1\n",
        "print(\"Zero Array with 5th Element as 1:\\n\", zero_array)"
      ]
    },
    {
      "cell_type": "code",
      "execution_count": 52,
      "metadata": {
        "colab": {
          "base_uri": "https://localhost:8080/",
          "height": 0
        },
        "id": "o5zvZkjeKPuj",
        "outputId": "5a9b6d5d-5865-420e-d3c0-07e9e548ffdf"
      },
      "outputs": [
        {
          "name": "stdout",
          "output_type": "stream",
          "text": [
            "Reversed Array:\n",
            " [0 4 8 2 1]\n"
          ]
        }
      ],
      "source": [
        "# Task 7: Reverse an array\n",
        "arr = np.array([1, 2, 8, 4, 0])\n",
        "reversed_arr = arr[::-1]\n",
        "print(\"Reversed Array:\\n\", reversed_arr)"
      ]
    },
    {
      "cell_type": "code",
      "execution_count": 50,
      "metadata": {
        "colab": {
          "base_uri": "https://localhost:8080/",
          "height": 0
        },
        "id": "RSDXWx6xKPmj",
        "outputId": "ff166537-ee6d-4868-8647-88de24a9b2ae"
      },
      "outputs": [
        {
          "name": "stdout",
          "output_type": "stream",
          "text": [
            "Border 1s, Inside 0s:\n",
            " [[1 1 1 1 1]\n",
            " [1 0 0 0 1]\n",
            " [1 0 0 0 1]\n",
            " [1 0 0 0 1]\n",
            " [1 1 1 1 1]]\n"
          ]
        }
      ],
      "source": [
        "# Task 8: Create a 2D array with 1 on border and 0 inside\n",
        "border_array = np.zeros((5, 5), dtype=int)\n",
        "border_array[0, :] = 1  # Top\n",
        "border_array[-1, :] = 1  # Bottom\n",
        "border_array[:, 0] = 1  # Left\n",
        "border_array[:, -1] = 1  # Right\n",
        "print(\"Border 1s, Inside 0s:\\n\", border_array)"
      ]
    },
    {
      "cell_type": "code",
      "execution_count": 54,
      "metadata": {
        "colab": {
          "base_uri": "https://localhost:8080/",
          "height": 0
        },
        "id": "jF1diAH9KPbD",
        "outputId": "375db3c2-535a-4694-ad7f-4cb2aa200bf5"
      },
      "outputs": [
        {
          "name": "stdout",
          "output_type": "stream",
          "text": [
            "8x8 Checkerboard Pattern:\n",
            " [[1 0 1 0 1 0 1 0]\n",
            " [0 1 0 1 0 1 0 1]\n",
            " [1 0 1 0 1 0 1 0]\n",
            " [0 1 0 1 0 1 0 1]\n",
            " [1 0 1 0 1 0 1 0]\n",
            " [0 1 0 1 0 1 0 1]\n",
            " [1 0 1 0 1 0 1 0]\n",
            " [0 1 0 1 0 1 0 1]]\n"
          ]
        }
      ],
      "source": [
        "# Task 9: Create an 8X8 checkerboard pattern\n",
        "checkerboard = np.zeros((8, 8), dtype=int)\n",
        "checkerboard[::2, ::2] = 1  # Even Rs and Cs\n",
        "checkerboard[1::2, 1::2] = 1  # Odd Rs and Cs\n",
        "print(\"8x8 Checkerboard Pattern:\\n\", checkerboard)"
      ]
    },
    {
      "cell_type": "markdown",
      "metadata": {
        "id": "gnMXdf4lLGG5"
      },
      "source": [
        "_______________________________________________________________________________"
      ]
    },
    {
      "cell_type": "markdown",
      "metadata": {
        "id": "wdsNw9c0LnqV"
      },
      "source": [
        "**Problem - 3: Array Operations**"
      ]
    },
    {
      "cell_type": "code",
      "execution_count": 55,
      "metadata": {
        "id": "pLhOUvqPL_kH"
      },
      "outputs": [],
      "source": [
        "# Defining arrays\n",
        "x = np.array([[1, 2], [3, 5]])\n",
        "y = np.array([[5, 6], [7, 8]])\n",
        "v = np.array([9, 10])\n",
        "w = np.array([11, 12])"
      ]
    },
    {
      "cell_type": "code",
      "execution_count": 69,
      "metadata": {
        "colab": {
          "base_uri": "https://localhost:8080/",
          "height": 0
        },
        "id": "W59V8Ru1L2w2",
        "outputId": "b3cea6cb-d8dc-4103-cb53-5fc37f384ddb"
      },
      "outputs": [
        {
          "name": "stdout",
          "output_type": "stream",
          "text": [
            "Array Addition:\n",
            "[[ 6  8]\n",
            " [10 13]]\n"
          ]
        }
      ],
      "source": [
        "# Task 1: Add the two arrays\n",
        "arraySum = x + y\n",
        "print(\"Array Addition:\")\n",
        "print(arraySum)"
      ]
    },
    {
      "cell_type": "code",
      "execution_count": 58,
      "metadata": {
        "colab": {
          "base_uri": "https://localhost:8080/",
          "height": 0
        },
        "id": "GX4PoLflL4A2",
        "outputId": "ace394db-146b-4830-e29a-332c72c22eff"
      },
      "outputs": [
        {
          "name": "stdout",
          "output_type": "stream",
          "text": [
            "Array Subtraction:\n",
            "[[-4 -4]\n",
            " [-4 -3]]\n"
          ]
        }
      ],
      "source": [
        "# Task 2: Subtract the two arrays\n",
        "arrayDiff = x - y\n",
        "print(\"Array Subtraction:\")\n",
        "print(arrayDiff)"
      ]
    },
    {
      "cell_type": "code",
      "execution_count": 59,
      "metadata": {
        "colab": {
          "base_uri": "https://localhost:8080/",
          "height": 0
        },
        "id": "fWalCtBNL36q",
        "outputId": "8dc093a1-93ec-4645-ca71-c88bf360b5b7"
      },
      "outputs": [
        {
          "name": "stdout",
          "output_type": "stream",
          "text": [
            "Scalar Multiplication:\n",
            "x * 3:\n",
            " [[ 3  6]\n",
            " [ 9 15]]\n",
            "y * 2:\n",
            " [[10 12]\n",
            " [14 16]]\n"
          ]
        }
      ],
      "source": [
        "# Task 3: Multiply the array with an integer\n",
        "scalarMultX = x * 3\n",
        "scalarMultY = y * 2\n",
        "print(\"Scalar Multiplication:\")\n",
        "print(\"x * 3:\\n\", scalarMultX)\n",
        "print(\"y * 2:\\n\", scalarMultY)\n"
      ]
    },
    {
      "cell_type": "code",
      "execution_count": 61,
      "metadata": {
        "colab": {
          "base_uri": "https://localhost:8080/",
          "height": 0
        },
        "id": "rnOUwW6FL30G",
        "outputId": "5cf5ce6d-b499-49ac-c4d7-f72f23f9e328"
      },
      "outputs": [
        {
          "name": "stdout",
          "output_type": "stream",
          "text": [
            "Array Squared:\n",
            "x squared:\n",
            " [[ 1  4]\n",
            " [ 9 25]]\n",
            "y squared:\n",
            " [[25 36]\n",
            " [49 64]]\n"
          ]
        }
      ],
      "source": [
        "# Task 4: Find the square of each element\n",
        "xSquared = x ** 2\n",
        "ySquared = y ** 2\n",
        "print(\"Array Squared:\")\n",
        "print(\"x squared:\\n\", xSquared)\n",
        "print(\"y squared:\\n\", ySquared)"
      ]
    },
    {
      "cell_type": "code",
      "execution_count": 62,
      "metadata": {
        "colab": {
          "base_uri": "https://localhost:8080/",
          "height": 0
        },
        "id": "66ni3tlCL3rG",
        "outputId": "52edabfb-cbac-4434-9494-86e92624cc02"
      },
      "outputs": [
        {
          "name": "stdout",
          "output_type": "stream",
          "text": [
            "Dot Products:\n",
            "v · w: 219\n",
            "x · v: [29 77]\n",
            "x · y:\n",
            " [[19 22]\n",
            " [50 58]]\n"
          ]
        }
      ],
      "source": [
        "# Task 5: Dot Products\n",
        "\n",
        "# Dot product of v and w\n",
        "dotVW = np.dot(v, w)\n",
        "print(\"Dot Products:\")\n",
        "print(\"v · w:\", dotVW)\n",
        "\n",
        "# Dot product of x and v\n",
        "dotXV = np.dot(x, v)\n",
        "print(\"x · v:\", dotXV)\n",
        "\n",
        "# Dot product of x and y\n",
        "dotXY = np.dot(x, y)\n",
        "print(\"x · y:\\n\", dotXY)"
      ]
    },
    {
      "cell_type": "code",
      "execution_count": 63,
      "metadata": {
        "colab": {
          "base_uri": "https://localhost:8080/",
          "height": 0
        },
        "id": "ornVhDvfL3fe",
        "outputId": "c1335f67-820d-470e-a6c3-2536a8b0971c"
      },
      "outputs": [
        {
          "name": "stdout",
          "output_type": "stream",
          "text": [
            "Concatenation:\n",
            "x and y:\n",
            " [[1 2]\n",
            " [3 5]\n",
            " [5 6]\n",
            " [7 8]]\n",
            "v and w:\n",
            " [[ 9 11]\n",
            " [10 12]]\n"
          ]
        }
      ],
      "source": [
        "# Task 6: Concatenation\n",
        "\n",
        "# Concatenate x and y along rows vertically\n",
        "rowConcat = np.concatenate((x, y), axis=0)\n",
        "print(\"Concatenation:\")\n",
        "print(\"x and y:\\n\", rowConcat)\n",
        "\n",
        "# Concatenate v and w along columns horizontally\n",
        "colConcat = np.concatenate((v.reshape(-1, 1), w.reshape(-1, 1)), axis=1)\n",
        "print(\"v and w:\\n\", colConcat)"
      ]
    },
    {
      "cell_type": "code",
      "execution_count": 68,
      "metadata": {
        "colab": {
          "base_uri": "https://localhost:8080/",
          "height": 0
        },
        "id": "mxsrOH2HL3QO",
        "outputId": "9fbcea51-8a62-4d66-b117-35319b0a6a01"
      },
      "outputs": [
        {
          "name": "stdout",
          "output_type": "stream",
          "text": [
            "Error: all the input arrays must have same number of dimensions, but the array at index 0 has 2 dimension(s) and the array at index 1 has 1 dimension(s)\n",
            "x shape: (2, 2)\n",
            "v shape: (2,)\n"
          ]
        }
      ],
      "source": [
        "# Task 7: Attempt to concatenate x and v\n",
        "try:\n",
        "    concatXV = np.concatenate((x, v), axis=0)\n",
        "    print(\"Concatenation of x and v:\", concatXV)\n",
        "except ValueError as e:\n",
        "    print(\"Error:\", e)\n",
        "\n",
        "    print(\"x shape:\", x.shape)\n",
        "    print(\"v shape:\", v.shape)\n",
        "# Cannot concatenate arrays with different dimensions"
      ]
    },
    {
      "cell_type": "markdown",
      "metadata": {
        "id": "es8l2zkbOn2I"
      },
      "source": [
        "________________________________________________________________________________"
      ]
    },
    {
      "cell_type": "markdown",
      "metadata": {
        "id": "Hua_i8MQO046"
      },
      "source": [
        "**Problem 4 - Matrix Operations**"
      ]
    },
    {
      "cell_type": "code",
      "execution_count": 75,
      "metadata": {
        "id": "bFbdooXGPEm7"
      },
      "outputs": [],
      "source": [
        "# TASK 1: Prove following using NumPy\n",
        "\n",
        "# Defining the matrices\n",
        "matrixA = np.array([[3, 4], [7, 8]])\n",
        "matrixB = np.array([[5, 3], [2, 1]])\n"
      ]
    },
    {
      "cell_type": "code",
      "execution_count": 78,
      "metadata": {
        "colab": {
          "base_uri": "https://localhost:8080/",
          "height": 0
        },
        "id": "aczeWh72PilW",
        "outputId": "b70772d3-6bf9-4d87-b5a3-6143dc475fe7"
      },
      "outputs": [
        {
          "name": "stdout",
          "output_type": "stream",
          "text": [
            "A Inverse:\n",
            " [[-2.    1.  ]\n",
            " [ 1.75 -0.75]]\n",
            "\n",
            "A * A^-1:\n",
            " [[1.00000000e+00 0.00000000e+00]\n",
            " [1.77635684e-15 1.00000000e+00]]\n",
            "\n",
            "Identity Matrix:\n",
            " [[1. 0.]\n",
            " [0. 1.]]\n",
            "\n",
            "Is A * A^-1 equal to Identity Matrix? True\n"
          ]
        }
      ],
      "source": [
        "# 1.1. Prove matrixA * matrixA^-1 = I (Identity Matrix)\n",
        "def proveMatrixInverse():\n",
        "    # Calculating the inverse of matrix A\n",
        "    try:\n",
        "        inverseA = np.linalg.inv(matrixA)\n",
        "        print(\"A Inverse:\\n\", inverseA)\n",
        "\n",
        "        # Multiplying matrix A and its inverse\n",
        "        multiplicationResult = np.dot(matrixA, inverseA)\n",
        "        print(\"\\nA * A^-1:\\n\", multiplicationResult)\n",
        "\n",
        "        # Creating identity matrix of same size\n",
        "        identityMatrix = np.eye(matrixA.shape[0])\n",
        "        print(\"\\nIdentity Matrix:\\n\", identityMatrix)\n",
        "\n",
        "        # Checking if the result is close to identity matrix\n",
        "        isIdentityVerified = np.allclose(multiplicationResult, identityMatrix)\n",
        "        print(\"\\nIs A * A^-1 equal to Identity Matrix?\", isIdentityVerified)\n",
        "    except np.linalg.LinAlgError:\n",
        "        print(\"Matrix A is not invertible.\")\n",
        "\n",
        "proveMatrixInverse()"
      ]
    },
    {
      "cell_type": "code",
      "execution_count": 79,
      "metadata": {
        "colab": {
          "base_uri": "https://localhost:8080/",
          "height": 0
        },
        "id": "wuuTXYU-QkX1",
        "outputId": "7fc671a3-1ff2-4539-fe45-72bd8a795dc9"
      },
      "outputs": [
        {
          "name": "stdout",
          "output_type": "stream",
          "text": [
            "AB:\n",
            " [[23 13]\n",
            " [51 29]]\n",
            "\n",
            "BA:\n",
            " [[36 44]\n",
            " [13 16]]\n",
            "\n",
            "Are AB and BA equal? False\n"
          ]
        }
      ],
      "source": [
        "# 1.2.  Prove matrixA * matrixB is not equal to matrixB * matrixA\n",
        "def prove():\n",
        "\n",
        "    # Calculating matrixA * matrixB\n",
        "    productAB = np.dot(matrixA, matrixB)\n",
        "    print(\"AB:\\n\", productAB)\n",
        "\n",
        "    # Calculating matrixB * matrixA\n",
        "    productBA = np.dot(matrixB, matrixA)\n",
        "    print(\"\\nBA:\\n\", productBA)\n",
        "\n",
        "    # Checking if they are equal\n",
        "    areProductsEqual = np.array_equal(productAB, productBA)\n",
        "    print(\"\\nAre AB and BA equal?\", areProductsEqual)\n",
        "\n",
        "prove()"
      ]
    },
    {
      "cell_type": "code",
      "execution_count": 81,
      "metadata": {
        "colab": {
          "base_uri": "https://localhost:8080/",
          "height": 0
        },
        "id": "9KnRhS93Ryx4",
        "outputId": "e323a376-715a-456f-8cd2-8db9d8f2f3d7"
      },
      "outputs": [
        {
          "name": "stdout",
          "output_type": "stream",
          "text": [
            "(AB)^T:\n",
            " [[23 51]\n",
            " [13 29]]\n",
            "\n",
            "B^T * A^T:\n",
            " [[23 51]\n",
            " [13 29]]\n",
            "\n",
            "Is (AB)^T equal to B^T * A^T? True\n"
          ]
        }
      ],
      "source": [
        "# 1.3. Prove (matrixA*matrixB)^T = matrixB^T * matrixA^T\n",
        "def proveTranspose():\n",
        "\n",
        "    # Calculating matrixA * matrixB\n",
        "    productAB = np.dot(matrixA, matrixB)\n",
        "\n",
        "    # Calculating (matrixA*matrixB)^T\n",
        "    transposeAB = productAB.T\n",
        "    print(\"(AB)^T:\\n\", transposeAB)\n",
        "\n",
        "    # Calculating matrixB^T * matrixA^T\n",
        "    transposeB = matrixB.T\n",
        "    transposeA = matrixA.T\n",
        "    productTransposeBTA = np.dot(transposeB, transposeA)\n",
        "    print(\"\\nB^T * A^T:\\n\", productTransposeBTA)\n",
        "\n",
        "    # Checking if they are equal\n",
        "    areTransposesEqual = np.array_equal(transposeAB, productTransposeBTA)\n",
        "    print(\"\\nIs (AB)^T equal to B^T * A^T?\", areTransposesEqual)\n",
        "\n",
        "proveTranspose()"
      ]
    },
    {
      "cell_type": "code",
      "execution_count": 84,
      "metadata": {
        "colab": {
          "base_uri": "https://localhost:8080/",
          "height": 0
        },
        "id": "fpL8gSx6Ssw7",
        "outputId": "4fa482f0-525b-437e-a8a1-e0b1c53181c3"
      },
      "outputs": [
        {
          "name": "stdout",
          "output_type": "stream",
          "text": [
            "Solution:\n",
            "x = 2.0\n",
            "y = 1.0\n",
            "z = -2.0\n"
          ]
        }
      ],
      "source": [
        "# TASK 2: Linear Equation using Inverse Method\n",
        "\n",
        "# Defining the coefficient matrix A\n",
        "A = np.array([[2, -3, 1],\n",
        "              [1, -1, 2],\n",
        "              [3, 1, -1]])\n",
        "\n",
        "# Defining the constant matrix B\n",
        "B = np.array([[-1],\n",
        "              [-3],\n",
        "              [ 9]])\n",
        "\n",
        "# Calculate the inverse of matrix A\n",
        "A_inverse = np.linalg.inv(A)\n",
        "\n",
        "# Calculate the solution matrix X\n",
        "X = np.dot(A_inverse, B)\n",
        "\n",
        "# Print the solution\n",
        "print(\"Solution:\")\n",
        "print(\"x =\", X[0,0])\n",
        "print(\"y =\", X[1,0])\n",
        "print(\"z =\", X[2,0])"
      ]
    },
    {
      "cell_type": "markdown",
      "metadata": {
        "id": "PxiNCsdgVct9"
      },
      "source": [
        "_______________________________________________________________________________"
      ]
    },
    {
      "cell_type": "markdown",
      "metadata": {
        "id": "IGPEcakcVyFA"
      },
      "source": [
        "**HOW FAST IS NUMPY?**"
      ]
    },
    {
      "cell_type": "code",
      "execution_count": 85,
      "metadata": {
        "id": "kLIDW4I-WBaC"
      },
      "outputs": [],
      "source": [
        "# Importing time for comaprison\n",
        "import time"
      ]
    },
    {
      "cell_type": "code",
      "execution_count": 87,
      "metadata": {
        "id": "BtPl1AoKV2MB"
      },
      "outputs": [],
      "source": [
        "# Size of list for task 1, 2, 3\n",
        "size = 1000000"
      ]
    },
    {
      "cell_type": "code",
      "execution_count": 93,
      "metadata": {
        "id": "-T8jENbGXMmD"
      },
      "outputs": [],
      "source": [
        "list1 = list(range(size))\n",
        "list2 = list(range(size))"
      ]
    },
    {
      "cell_type": "code",
      "execution_count": 110,
      "metadata": {
        "colab": {
          "base_uri": "https://localhost:8080/",
          "height": 0
        },
        "id": "0y2_0BHiWVy8",
        "outputId": "1375874f-c2b6-4365-d25f-5373a2cd8a06"
      },
      "outputs": [
        {
          "name": "stdout",
          "output_type": "stream",
          "text": [
            "List Time: 0.0801 seconds\n",
            "NumPy Time: 0.0022 seconds\n"
          ]
        }
      ],
      "source": [
        "# 1. ELement wise addition\n",
        "\n",
        "# LIST\n",
        "start_time = time.time()\n",
        "result_list_add = [list1[i] + list2[i] for i in range(size)]\n",
        "end_time = time.time()\n",
        "print(f\"List Time: {end_time - start_time:.4f} seconds\")\n",
        "\n",
        "# NUMPY ARRAYS\n",
        "array1 = np.arange(size)\n",
        "array2 = np.arange(size)\n",
        "start_time = time.time()\n",
        "result_array_add = array1 + array2\n",
        "end_time = time.time()\n",
        "print(f\"NumPy Time: {end_time - start_time:.4f} seconds\")\n"
      ]
    },
    {
      "cell_type": "code",
      "execution_count": 109,
      "metadata": {
        "colab": {
          "base_uri": "https://localhost:8080/",
          "height": 0
        },
        "id": "5Nl0wRKuWcAF",
        "outputId": "86c6d52a-fc51-42d2-c0a3-1bd0f2dbf9d2"
      },
      "outputs": [
        {
          "name": "stdout",
          "output_type": "stream",
          "text": [
            "List Time: 0.1367 seconds\n",
            "NumPy Time: 0.0024 seconds\n"
          ]
        }
      ],
      "source": [
        "# 2. ELement wise multiplication\n",
        "\n",
        "# LIST\n",
        "start_time = time.time()\n",
        "result_list_mult = [list1[i] * list2[i] for i in range(size)]\n",
        "end_time = time.time()\n",
        "print(f\"List Time: {end_time - start_time:.4f} seconds\")\n",
        "\n",
        "# NUMPY ARRAYS\n",
        "start_time = time.time()\n",
        "result_array_mult = array1 * array2\n",
        "end_time = time.time()\n",
        "print(f\"NumPy Time: {end_time - start_time:.4f} seconds\")"
      ]
    },
    {
      "cell_type": "code",
      "execution_count": 111,
      "metadata": {
        "colab": {
          "base_uri": "https://localhost:8080/",
          "height": 0
        },
        "id": "sK2EBjJLW-Pg",
        "outputId": "94c83d27-ade3-4c8a-d38c-1bc2e9111f0f"
      },
      "outputs": [
        {
          "name": "stdout",
          "output_type": "stream",
          "text": [
            "List Time: 0.0891 seconds\n",
            "NumPy Time: 0.0020 seconds\n"
          ]
        }
      ],
      "source": [
        "# 3. Dot product\n",
        "\n",
        "# LIST\n",
        "start_time = time.time()\n",
        "dot_product_list = sum(list1[i] * list2[i] for i in range(size))\n",
        "end_time = time.time()\n",
        "print(f\"List Time: {end_time - start_time:.4f} seconds\")\n",
        "\n",
        "# NUMPY ARRAYS\n",
        "start_time = time.time()\n",
        "dot_product_array = np.dot(array1, array2)\n",
        "end_time = time.time()\n",
        "print(f\"NumPy Time: {end_time - start_time:.4f} seconds\")"
      ]
    },
    {
      "cell_type": "code",
      "execution_count": 112,
      "metadata": {
        "id": "t2imOi-lXh4x"
      },
      "outputs": [],
      "source": [
        "# FOR TASK 4\n",
        "matrix_size = 1000"
      ]
    },
    {
      "cell_type": "code",
      "execution_count": 113,
      "metadata": {
        "colab": {
          "base_uri": "https://localhost:8080/",
          "height": 0
        },
        "id": "Yqmn3SjDX2Bs",
        "outputId": "f4283837-b60f-4f05-b32a-d6cfa2fa8163"
      },
      "outputs": [
        {
          "name": "stdout",
          "output_type": "stream",
          "text": [
            "List Matrix Time: 220.963398 seconds\n",
            "NumPy Matrix Time: 1.768439 seconds\n"
          ]
        }
      ],
      "source": [
        "# 4. Matrix Multiplication\n",
        "\n",
        "# LIST\n",
        "matrix1_list = [[i + j for j in range(matrix_size)] for i in range(matrix_size)]\n",
        "matrix2_list = [[i + j for j in range(matrix_size)] for i in range(matrix_size)]\n",
        "\n",
        "def matMultList(m1, m2):\n",
        "    result = [[0 for _ in range(matrix_size)] for _ in range(matrix_size)]\n",
        "    for i in range(matrix_size):\n",
        "        for j in range(matrix_size):\n",
        "            for k in range(matrix_size):\n",
        "                result[i][j] += m1[i][k] * m2[k][j]\n",
        "    return result\n",
        "\n",
        "start_time = time.time()\n",
        "result_matrix_list = matMultList(matrix1_list, matrix2_list)\n",
        "end_time = time.time()\n",
        "print(f\"List Matrix Time: {end_time - start_time:.6f} seconds\")\n",
        "\n",
        "# NUMPY Arrays\n",
        "matrix1_array = np.arange(matrix_size * matrix_size).reshape(matrix_size, matrix_size)\n",
        "matrix2_array = np.arange(matrix_size * matrix_size).reshape(matrix_size, matrix_size)\n",
        "\n",
        "start_time = time.time()\n",
        "result_matrix_array = np.dot(matrix1_array, matrix2_array)\n",
        "end_time = time.time()\n",
        "print(f\"NumPy Matrix Time: {end_time - start_time:.6f} seconds\")"
      ]
    },
    {
      "cell_type": "markdown",
      "metadata": {
        "id": "OqqJ4sMmYODY"
      },
      "source": [
        "As we can see NUMPY arrays are quicker than lists, especially in Task 4."
      ]
    }
  ],
  "metadata": {
    "colab": {
      "provenance": []
    },
    "kernelspec": {
      "display_name": "Python 3",
      "name": "python3"
    },
    "language_info": {
      "name": "python"
    }
  },
  "nbformat": 4,
  "nbformat_minor": 0
}
